{
 "cells": [
  {
   "cell_type": "code",
   "execution_count": 1,
   "id": "4bd23e9f",
   "metadata": {
    "execution": {
     "iopub.execute_input": "2024-07-22T16:46:25.889216Z",
     "iopub.status.busy": "2024-07-22T16:46:25.888749Z",
     "iopub.status.idle": "2024-07-22T16:46:29.576805Z",
     "shell.execute_reply": "2024-07-22T16:46:29.575297Z"
    },
    "executionInfo": {
     "elapsed": 510,
     "status": "ok",
     "timestamp": 1721666268677,
     "user": {
      "displayName": "Jak Ok",
      "userId": "18314609704934874610"
     },
     "user_tz": -180
    },
    "id": "guAj64GE8Eoi",
    "papermill": {
     "duration": 3.712325,
     "end_time": "2024-07-22T16:46:29.579884",
     "exception": false,
     "start_time": "2024-07-22T16:46:25.867559",
     "status": "completed"
    },
    "tags": []
   },
   "outputs": [],
   "source": [
    "import numpy as np\n",
    "import pandas as pd\n",
    "import matplotlib.pyplot as plt\n",
    "import seaborn as sns\n",
    "from sklearn.preprocessing import MinMaxScaler\n",
    "from sklearn.model_selection import train_test_split\n",
    "from sklearn.ensemble import RandomForestClassifier\n",
    "from sklearn.preprocessing import OneHotEncoder\n",
    "from sklearn.metrics import accuracy_score\n",
    "from sklearn.metrics import confusion_matrix\n",
    "from sklearn.metrics import ConfusionMatrixDisplay\n",
    "from imblearn.over_sampling import RandomOverSampler\n",
    "\n"
   ]
  },
  {
   "cell_type": "code",
   "execution_count": 2,
   "id": "118d4995",
   "metadata": {
    "execution": {
     "iopub.execute_input": "2024-07-22T16:46:29.621713Z",
     "iopub.status.busy": "2024-07-22T16:46:29.621139Z",
     "iopub.status.idle": "2024-07-22T16:46:29.647407Z",
     "shell.execute_reply": "2024-07-22T16:46:29.646013Z"
    },
    "executionInfo": {
     "elapsed": 34,
     "status": "ok",
     "timestamp": 1721666269213,
     "user": {
      "displayName": "Jak Ok",
      "userId": "18314609704934874610"
     },
     "user_tz": -180
    },
    "id": "Oqbwk1nA8g-8",
    "papermill": {
     "duration": 0.05045,
     "end_time": "2024-07-22T16:46:29.650318",
     "exception": false,
     "start_time": "2024-07-22T16:46:29.599868",
     "status": "completed"
    },
    "tags": []
   },
   "outputs": [],
   "source": [
    "data =pd.read_csv(\"/kaggle/input/predict-restaurant-menu-items-profitability/restaurant_menu_optimization_data.csv\")"
   ]
  },
  {
   "cell_type": "code",
   "execution_count": 3,
   "id": "b5e61d05",
   "metadata": {
    "execution": {
     "iopub.execute_input": "2024-07-22T16:46:29.690545Z",
     "iopub.status.busy": "2024-07-22T16:46:29.690079Z",
     "iopub.status.idle": "2024-07-22T16:46:29.718890Z",
     "shell.execute_reply": "2024-07-22T16:46:29.717646Z"
    },
    "executionInfo": {
     "elapsed": 33,
     "status": "ok",
     "timestamp": 1721666269213,
     "user": {
      "displayName": "Jak Ok",
      "userId": "18314609704934874610"
     },
     "user_tz": -180
    },
    "id": "WBvDx0yC8umI",
    "outputId": "dfd6bc2b-85ac-4b2d-bffa-d0e082ef5f40",
    "papermill": {
     "duration": 0.05196,
     "end_time": "2024-07-22T16:46:29.721574",
     "exception": false,
     "start_time": "2024-07-22T16:46:29.669614",
     "status": "completed"
    },
    "tags": []
   },
   "outputs": [
    {
     "data": {
      "text/html": [
       "<div>\n",
       "<style scoped>\n",
       "    .dataframe tbody tr th:only-of-type {\n",
       "        vertical-align: middle;\n",
       "    }\n",
       "\n",
       "    .dataframe tbody tr th {\n",
       "        vertical-align: top;\n",
       "    }\n",
       "\n",
       "    .dataframe thead th {\n",
       "        text-align: right;\n",
       "    }\n",
       "</style>\n",
       "<table border=\"1\" class=\"dataframe\">\n",
       "  <thead>\n",
       "    <tr style=\"text-align: right;\">\n",
       "      <th></th>\n",
       "      <th>RestaurantID</th>\n",
       "      <th>MenuCategory</th>\n",
       "      <th>MenuItem</th>\n",
       "      <th>Ingredients</th>\n",
       "      <th>Price</th>\n",
       "      <th>Profitability</th>\n",
       "    </tr>\n",
       "  </thead>\n",
       "  <tbody>\n",
       "    <tr>\n",
       "      <th>0</th>\n",
       "      <td>R003</td>\n",
       "      <td>Beverages</td>\n",
       "      <td>Soda</td>\n",
       "      <td>['confidential']</td>\n",
       "      <td>2.55</td>\n",
       "      <td>Low</td>\n",
       "    </tr>\n",
       "    <tr>\n",
       "      <th>1</th>\n",
       "      <td>R001</td>\n",
       "      <td>Appetizers</td>\n",
       "      <td>Spinach Artichoke Dip</td>\n",
       "      <td>['Tomatoes', 'Basil', 'Garlic', 'Olive Oil']</td>\n",
       "      <td>11.12</td>\n",
       "      <td>Medium</td>\n",
       "    </tr>\n",
       "    <tr>\n",
       "      <th>2</th>\n",
       "      <td>R003</td>\n",
       "      <td>Desserts</td>\n",
       "      <td>New York Cheesecake</td>\n",
       "      <td>['Chocolate', 'Butter', 'Sugar', 'Eggs']</td>\n",
       "      <td>18.66</td>\n",
       "      <td>High</td>\n",
       "    </tr>\n",
       "    <tr>\n",
       "      <th>3</th>\n",
       "      <td>R003</td>\n",
       "      <td>Main Course</td>\n",
       "      <td>Chicken Alfredo</td>\n",
       "      <td>['Chicken', 'Fettuccine', 'Alfredo Sauce', 'Pa...</td>\n",
       "      <td>29.55</td>\n",
       "      <td>High</td>\n",
       "    </tr>\n",
       "    <tr>\n",
       "      <th>4</th>\n",
       "      <td>R002</td>\n",
       "      <td>Main Course</td>\n",
       "      <td>Grilled Steak</td>\n",
       "      <td>['Chicken', 'Fettuccine', 'Alfredo Sauce', 'Pa...</td>\n",
       "      <td>17.73</td>\n",
       "      <td>Medium</td>\n",
       "    </tr>\n",
       "  </tbody>\n",
       "</table>\n",
       "</div>"
      ],
      "text/plain": [
       "  RestaurantID MenuCategory               MenuItem  \\\n",
       "0         R003    Beverages                   Soda   \n",
       "1         R001   Appetizers  Spinach Artichoke Dip   \n",
       "2         R003     Desserts    New York Cheesecake   \n",
       "3         R003  Main Course        Chicken Alfredo   \n",
       "4         R002  Main Course          Grilled Steak   \n",
       "\n",
       "                                         Ingredients  Price Profitability  \n",
       "0                                   ['confidential']   2.55           Low  \n",
       "1       ['Tomatoes', 'Basil', 'Garlic', 'Olive Oil']  11.12        Medium  \n",
       "2           ['Chocolate', 'Butter', 'Sugar', 'Eggs']  18.66          High  \n",
       "3  ['Chicken', 'Fettuccine', 'Alfredo Sauce', 'Pa...  29.55          High  \n",
       "4  ['Chicken', 'Fettuccine', 'Alfredo Sauce', 'Pa...  17.73        Medium  "
      ]
     },
     "execution_count": 3,
     "metadata": {},
     "output_type": "execute_result"
    }
   ],
   "source": [
    "data.head()"
   ]
  },
  {
   "cell_type": "code",
   "execution_count": 4,
   "id": "832b5b1d",
   "metadata": {
    "execution": {
     "iopub.execute_input": "2024-07-22T16:46:29.763164Z",
     "iopub.status.busy": "2024-07-22T16:46:29.762730Z",
     "iopub.status.idle": "2024-07-22T16:46:29.780245Z",
     "shell.execute_reply": "2024-07-22T16:46:29.778892Z"
    },
    "executionInfo": {
     "elapsed": 29,
     "status": "ok",
     "timestamp": 1721666269214,
     "user": {
      "displayName": "Jak Ok",
      "userId": "18314609704934874610"
     },
     "user_tz": -180
    },
    "id": "ePnmbVZKFRcM",
    "outputId": "51816412-9f27-4477-913a-3b6df2c8e7b2",
    "papermill": {
     "duration": 0.04224,
     "end_time": "2024-07-22T16:46:29.783129",
     "exception": false,
     "start_time": "2024-07-22T16:46:29.740889",
     "status": "completed"
    },
    "tags": []
   },
   "outputs": [
    {
     "data": {
      "text/plain": [
       "27"
      ]
     },
     "execution_count": 4,
     "metadata": {},
     "output_type": "execute_result"
    }
   ],
   "source": [
    "data.duplicated().sum()"
   ]
  },
  {
   "cell_type": "code",
   "execution_count": 5,
   "id": "8cc4be91",
   "metadata": {
    "execution": {
     "iopub.execute_input": "2024-07-22T16:46:29.824706Z",
     "iopub.status.busy": "2024-07-22T16:46:29.824233Z",
     "iopub.status.idle": "2024-07-22T16:46:29.854383Z",
     "shell.execute_reply": "2024-07-22T16:46:29.852993Z"
    },
    "executionInfo": {
     "elapsed": 26,
     "status": "ok",
     "timestamp": 1721666269214,
     "user": {
      "displayName": "Jak Ok",
      "userId": "18314609704934874610"
     },
     "user_tz": -180
    },
    "id": "erk909QjFdnd",
    "outputId": "1ccfacae-ef3f-4b52-e190-a88f76de1592",
    "papermill": {
     "duration": 0.054027,
     "end_time": "2024-07-22T16:46:29.857106",
     "exception": false,
     "start_time": "2024-07-22T16:46:29.803079",
     "status": "completed"
    },
    "tags": []
   },
   "outputs": [
    {
     "data": {
      "text/html": [
       "<div>\n",
       "<style scoped>\n",
       "    .dataframe tbody tr th:only-of-type {\n",
       "        vertical-align: middle;\n",
       "    }\n",
       "\n",
       "    .dataframe tbody tr th {\n",
       "        vertical-align: top;\n",
       "    }\n",
       "\n",
       "    .dataframe thead th {\n",
       "        text-align: right;\n",
       "    }\n",
       "</style>\n",
       "<table border=\"1\" class=\"dataframe\">\n",
       "  <thead>\n",
       "    <tr style=\"text-align: right;\">\n",
       "      <th></th>\n",
       "      <th>RestaurantID</th>\n",
       "      <th>MenuCategory</th>\n",
       "      <th>MenuItem</th>\n",
       "      <th>Ingredients</th>\n",
       "      <th>Price</th>\n",
       "      <th>Profitability</th>\n",
       "    </tr>\n",
       "  </thead>\n",
       "  <tbody>\n",
       "    <tr>\n",
       "      <th>108</th>\n",
       "      <td>R001</td>\n",
       "      <td>Beverages</td>\n",
       "      <td>Soda</td>\n",
       "      <td>['confidential']</td>\n",
       "      <td>2.81</td>\n",
       "      <td>Low</td>\n",
       "    </tr>\n",
       "    <tr>\n",
       "      <th>185</th>\n",
       "      <td>R001</td>\n",
       "      <td>Beverages</td>\n",
       "      <td>Soda</td>\n",
       "      <td>['confidential']</td>\n",
       "      <td>4.05</td>\n",
       "      <td>Medium</td>\n",
       "    </tr>\n",
       "    <tr>\n",
       "      <th>244</th>\n",
       "      <td>R002</td>\n",
       "      <td>Beverages</td>\n",
       "      <td>Iced Tea</td>\n",
       "      <td>['confidential']</td>\n",
       "      <td>2.73</td>\n",
       "      <td>Low</td>\n",
       "    </tr>\n",
       "    <tr>\n",
       "      <th>261</th>\n",
       "      <td>R002</td>\n",
       "      <td>Beverages</td>\n",
       "      <td>Iced Tea</td>\n",
       "      <td>['confidential']</td>\n",
       "      <td>3.65</td>\n",
       "      <td>Medium</td>\n",
       "    </tr>\n",
       "    <tr>\n",
       "      <th>304</th>\n",
       "      <td>R001</td>\n",
       "      <td>Desserts</td>\n",
       "      <td>Chocolate Lava Cake</td>\n",
       "      <td>['Chocolate', 'Butter', 'Sugar', 'Eggs']</td>\n",
       "      <td>17.44</td>\n",
       "      <td>High</td>\n",
       "    </tr>\n",
       "    <tr>\n",
       "      <th>363</th>\n",
       "      <td>R001</td>\n",
       "      <td>Beverages</td>\n",
       "      <td>Soda</td>\n",
       "      <td>['confidential']</td>\n",
       "      <td>2.81</td>\n",
       "      <td>Low</td>\n",
       "    </tr>\n",
       "    <tr>\n",
       "      <th>404</th>\n",
       "      <td>R002</td>\n",
       "      <td>Appetizers</td>\n",
       "      <td>Bruschetta</td>\n",
       "      <td>['Tomatoes', 'Basil', 'Garlic', 'Olive Oil']</td>\n",
       "      <td>9.81</td>\n",
       "      <td>Medium</td>\n",
       "    </tr>\n",
       "    <tr>\n",
       "      <th>437</th>\n",
       "      <td>R002</td>\n",
       "      <td>Appetizers</td>\n",
       "      <td>Bruschetta</td>\n",
       "      <td>['Tomatoes', 'Basil', 'Garlic', 'Olive Oil']</td>\n",
       "      <td>9.81</td>\n",
       "      <td>Medium</td>\n",
       "    </tr>\n",
       "    <tr>\n",
       "      <th>498</th>\n",
       "      <td>R002</td>\n",
       "      <td>Main Course</td>\n",
       "      <td>Shrimp Scampi</td>\n",
       "      <td>['Chicken', 'Fettuccine', 'Alfredo Sauce', 'Pa...</td>\n",
       "      <td>18.43</td>\n",
       "      <td>Medium</td>\n",
       "    </tr>\n",
       "    <tr>\n",
       "      <th>577</th>\n",
       "      <td>R003</td>\n",
       "      <td>Beverages</td>\n",
       "      <td>Iced Tea</td>\n",
       "      <td>['confidential']</td>\n",
       "      <td>4.40</td>\n",
       "      <td>Medium</td>\n",
       "    </tr>\n",
       "    <tr>\n",
       "      <th>580</th>\n",
       "      <td>R002</td>\n",
       "      <td>Desserts</td>\n",
       "      <td>Tiramisu</td>\n",
       "      <td>['Chocolate', 'Butter', 'Sugar', 'Eggs']</td>\n",
       "      <td>15.50</td>\n",
       "      <td>High</td>\n",
       "    </tr>\n",
       "    <tr>\n",
       "      <th>583</th>\n",
       "      <td>R001</td>\n",
       "      <td>Main Course</td>\n",
       "      <td>Chicken Alfredo</td>\n",
       "      <td>['Chicken', 'Fettuccine', 'Alfredo Sauce', 'Pa...</td>\n",
       "      <td>24.70</td>\n",
       "      <td>High</td>\n",
       "    </tr>\n",
       "    <tr>\n",
       "      <th>635</th>\n",
       "      <td>R001</td>\n",
       "      <td>Beverages</td>\n",
       "      <td>Coffee</td>\n",
       "      <td>['confidential']</td>\n",
       "      <td>4.90</td>\n",
       "      <td>Medium</td>\n",
       "    </tr>\n",
       "    <tr>\n",
       "      <th>637</th>\n",
       "      <td>R001</td>\n",
       "      <td>Beverages</td>\n",
       "      <td>Lemonade</td>\n",
       "      <td>['confidential']</td>\n",
       "      <td>3.92</td>\n",
       "      <td>Medium</td>\n",
       "    </tr>\n",
       "    <tr>\n",
       "      <th>646</th>\n",
       "      <td>R001</td>\n",
       "      <td>Appetizers</td>\n",
       "      <td>Spinach Artichoke Dip</td>\n",
       "      <td>['Tomatoes', 'Basil', 'Garlic', 'Olive Oil']</td>\n",
       "      <td>9.55</td>\n",
       "      <td>Medium</td>\n",
       "    </tr>\n",
       "    <tr>\n",
       "      <th>659</th>\n",
       "      <td>R001</td>\n",
       "      <td>Beverages</td>\n",
       "      <td>Coffee</td>\n",
       "      <td>['confidential']</td>\n",
       "      <td>2.29</td>\n",
       "      <td>Low</td>\n",
       "    </tr>\n",
       "    <tr>\n",
       "      <th>765</th>\n",
       "      <td>R001</td>\n",
       "      <td>Appetizers</td>\n",
       "      <td>Caprese Salad</td>\n",
       "      <td>['Tomatoes', 'Basil', 'Garlic', 'Olive Oil']</td>\n",
       "      <td>10.83</td>\n",
       "      <td>Medium</td>\n",
       "    </tr>\n",
       "    <tr>\n",
       "      <th>772</th>\n",
       "      <td>R003</td>\n",
       "      <td>Beverages</td>\n",
       "      <td>Iced Tea</td>\n",
       "      <td>['confidential']</td>\n",
       "      <td>4.42</td>\n",
       "      <td>Medium</td>\n",
       "    </tr>\n",
       "    <tr>\n",
       "      <th>786</th>\n",
       "      <td>R003</td>\n",
       "      <td>Appetizers</td>\n",
       "      <td>Spinach Artichoke Dip</td>\n",
       "      <td>['Tomatoes', 'Basil', 'Garlic', 'Olive Oil']</td>\n",
       "      <td>9.37</td>\n",
       "      <td>Medium</td>\n",
       "    </tr>\n",
       "    <tr>\n",
       "      <th>796</th>\n",
       "      <td>R002</td>\n",
       "      <td>Appetizers</td>\n",
       "      <td>Caprese Salad</td>\n",
       "      <td>['Tomatoes', 'Basil', 'Garlic', 'Olive Oil']</td>\n",
       "      <td>9.16</td>\n",
       "      <td>Medium</td>\n",
       "    </tr>\n",
       "    <tr>\n",
       "      <th>812</th>\n",
       "      <td>R001</td>\n",
       "      <td>Beverages</td>\n",
       "      <td>Iced Tea</td>\n",
       "      <td>['confidential']</td>\n",
       "      <td>2.98</td>\n",
       "      <td>Low</td>\n",
       "    </tr>\n",
       "    <tr>\n",
       "      <th>849</th>\n",
       "      <td>R003</td>\n",
       "      <td>Beverages</td>\n",
       "      <td>Coffee</td>\n",
       "      <td>['confidential']</td>\n",
       "      <td>2.70</td>\n",
       "      <td>Low</td>\n",
       "    </tr>\n",
       "    <tr>\n",
       "      <th>892</th>\n",
       "      <td>R002</td>\n",
       "      <td>Beverages</td>\n",
       "      <td>Lemonade</td>\n",
       "      <td>['confidential']</td>\n",
       "      <td>3.35</td>\n",
       "      <td>Medium</td>\n",
       "    </tr>\n",
       "    <tr>\n",
       "      <th>905</th>\n",
       "      <td>R003</td>\n",
       "      <td>Desserts</td>\n",
       "      <td>New York Cheesecake</td>\n",
       "      <td>['Chocolate', 'Butter', 'Sugar', 'Eggs']</td>\n",
       "      <td>11.36</td>\n",
       "      <td>Medium</td>\n",
       "    </tr>\n",
       "    <tr>\n",
       "      <th>911</th>\n",
       "      <td>R002</td>\n",
       "      <td>Beverages</td>\n",
       "      <td>Iced Tea</td>\n",
       "      <td>['confidential']</td>\n",
       "      <td>4.48</td>\n",
       "      <td>Medium</td>\n",
       "    </tr>\n",
       "    <tr>\n",
       "      <th>923</th>\n",
       "      <td>R003</td>\n",
       "      <td>Beverages</td>\n",
       "      <td>Iced Tea</td>\n",
       "      <td>['confidential']</td>\n",
       "      <td>3.87</td>\n",
       "      <td>Medium</td>\n",
       "    </tr>\n",
       "    <tr>\n",
       "      <th>964</th>\n",
       "      <td>R002</td>\n",
       "      <td>Beverages</td>\n",
       "      <td>Iced Tea</td>\n",
       "      <td>['confidential']</td>\n",
       "      <td>2.80</td>\n",
       "      <td>Low</td>\n",
       "    </tr>\n",
       "  </tbody>\n",
       "</table>\n",
       "</div>"
      ],
      "text/plain": [
       "    RestaurantID MenuCategory               MenuItem  \\\n",
       "108         R001    Beverages                   Soda   \n",
       "185         R001    Beverages                   Soda   \n",
       "244         R002    Beverages               Iced Tea   \n",
       "261         R002    Beverages               Iced Tea   \n",
       "304         R001     Desserts    Chocolate Lava Cake   \n",
       "363         R001    Beverages                   Soda   \n",
       "404         R002   Appetizers             Bruschetta   \n",
       "437         R002   Appetizers             Bruschetta   \n",
       "498         R002  Main Course          Shrimp Scampi   \n",
       "577         R003    Beverages               Iced Tea   \n",
       "580         R002     Desserts               Tiramisu   \n",
       "583         R001  Main Course        Chicken Alfredo   \n",
       "635         R001    Beverages                 Coffee   \n",
       "637         R001    Beverages               Lemonade   \n",
       "646         R001   Appetizers  Spinach Artichoke Dip   \n",
       "659         R001    Beverages                 Coffee   \n",
       "765         R001   Appetizers          Caprese Salad   \n",
       "772         R003    Beverages               Iced Tea   \n",
       "786         R003   Appetizers  Spinach Artichoke Dip   \n",
       "796         R002   Appetizers          Caprese Salad   \n",
       "812         R001    Beverages               Iced Tea   \n",
       "849         R003    Beverages                 Coffee   \n",
       "892         R002    Beverages               Lemonade   \n",
       "905         R003     Desserts    New York Cheesecake   \n",
       "911         R002    Beverages               Iced Tea   \n",
       "923         R003    Beverages               Iced Tea   \n",
       "964         R002    Beverages               Iced Tea   \n",
       "\n",
       "                                           Ingredients  Price Profitability  \n",
       "108                                   ['confidential']   2.81           Low  \n",
       "185                                   ['confidential']   4.05        Medium  \n",
       "244                                   ['confidential']   2.73           Low  \n",
       "261                                   ['confidential']   3.65        Medium  \n",
       "304           ['Chocolate', 'Butter', 'Sugar', 'Eggs']  17.44          High  \n",
       "363                                   ['confidential']   2.81           Low  \n",
       "404       ['Tomatoes', 'Basil', 'Garlic', 'Olive Oil']   9.81        Medium  \n",
       "437       ['Tomatoes', 'Basil', 'Garlic', 'Olive Oil']   9.81        Medium  \n",
       "498  ['Chicken', 'Fettuccine', 'Alfredo Sauce', 'Pa...  18.43        Medium  \n",
       "577                                   ['confidential']   4.40        Medium  \n",
       "580           ['Chocolate', 'Butter', 'Sugar', 'Eggs']  15.50          High  \n",
       "583  ['Chicken', 'Fettuccine', 'Alfredo Sauce', 'Pa...  24.70          High  \n",
       "635                                   ['confidential']   4.90        Medium  \n",
       "637                                   ['confidential']   3.92        Medium  \n",
       "646       ['Tomatoes', 'Basil', 'Garlic', 'Olive Oil']   9.55        Medium  \n",
       "659                                   ['confidential']   2.29           Low  \n",
       "765       ['Tomatoes', 'Basil', 'Garlic', 'Olive Oil']  10.83        Medium  \n",
       "772                                   ['confidential']   4.42        Medium  \n",
       "786       ['Tomatoes', 'Basil', 'Garlic', 'Olive Oil']   9.37        Medium  \n",
       "796       ['Tomatoes', 'Basil', 'Garlic', 'Olive Oil']   9.16        Medium  \n",
       "812                                   ['confidential']   2.98           Low  \n",
       "849                                   ['confidential']   2.70           Low  \n",
       "892                                   ['confidential']   3.35        Medium  \n",
       "905           ['Chocolate', 'Butter', 'Sugar', 'Eggs']  11.36        Medium  \n",
       "911                                   ['confidential']   4.48        Medium  \n",
       "923                                   ['confidential']   3.87        Medium  \n",
       "964                                   ['confidential']   2.80           Low  "
      ]
     },
     "execution_count": 5,
     "metadata": {},
     "output_type": "execute_result"
    }
   ],
   "source": [
    "data[data.duplicated()]"
   ]
  },
  {
   "cell_type": "code",
   "execution_count": 6,
   "id": "47b91797",
   "metadata": {
    "execution": {
     "iopub.execute_input": "2024-07-22T16:46:29.898786Z",
     "iopub.status.busy": "2024-07-22T16:46:29.898370Z",
     "iopub.status.idle": "2024-07-22T16:46:29.907411Z",
     "shell.execute_reply": "2024-07-22T16:46:29.906376Z"
    },
    "executionInfo": {
     "elapsed": 24,
     "status": "ok",
     "timestamp": 1721666269215,
     "user": {
      "displayName": "Jak Ok",
      "userId": "18314609704934874610"
     },
     "user_tz": -180
    },
    "id": "J1X2l4IdFscz",
    "papermill": {
     "duration": 0.033259,
     "end_time": "2024-07-22T16:46:29.910159",
     "exception": false,
     "start_time": "2024-07-22T16:46:29.876900",
     "status": "completed"
    },
    "tags": []
   },
   "outputs": [],
   "source": [
    "data.drop_duplicates(inplace=True)"
   ]
  },
  {
   "cell_type": "code",
   "execution_count": 7,
   "id": "8b1f851f",
   "metadata": {
    "execution": {
     "iopub.execute_input": "2024-07-22T16:46:29.953415Z",
     "iopub.status.busy": "2024-07-22T16:46:29.952962Z",
     "iopub.status.idle": "2024-07-22T16:46:29.963960Z",
     "shell.execute_reply": "2024-07-22T16:46:29.962570Z"
    },
    "executionInfo": {
     "elapsed": 23,
     "status": "ok",
     "timestamp": 1721666269215,
     "user": {
      "displayName": "Jak Ok",
      "userId": "18314609704934874610"
     },
     "user_tz": -180
    },
    "id": "jdWgsmgrFy_3",
    "outputId": "c297bba4-680e-40b5-d170-f6c2b5abdd02",
    "papermill": {
     "duration": 0.036313,
     "end_time": "2024-07-22T16:46:29.966809",
     "exception": false,
     "start_time": "2024-07-22T16:46:29.930496",
     "status": "completed"
    },
    "tags": []
   },
   "outputs": [
    {
     "data": {
      "text/plain": [
       "RestaurantID     0\n",
       "MenuCategory     0\n",
       "MenuItem         0\n",
       "Ingredients      0\n",
       "Price            0\n",
       "Profitability    0\n",
       "dtype: int64"
      ]
     },
     "execution_count": 7,
     "metadata": {},
     "output_type": "execute_result"
    }
   ],
   "source": [
    "data.isna().sum()"
   ]
  },
  {
   "cell_type": "code",
   "execution_count": 8,
   "id": "fb103f33",
   "metadata": {
    "execution": {
     "iopub.execute_input": "2024-07-22T16:46:30.008759Z",
     "iopub.status.busy": "2024-07-22T16:46:30.008299Z",
     "iopub.status.idle": "2024-07-22T16:46:30.015574Z",
     "shell.execute_reply": "2024-07-22T16:46:30.014390Z"
    },
    "executionInfo": {
     "elapsed": 21,
     "status": "ok",
     "timestamp": 1721666269216,
     "user": {
      "displayName": "Jak Ok",
      "userId": "18314609704934874610"
     },
     "user_tz": -180
    },
    "id": "GCeCUDI5F5c6",
    "outputId": "49d8fe97-83eb-4af1-9620-59d0bea60567",
    "papermill": {
     "duration": 0.031402,
     "end_time": "2024-07-22T16:46:30.018248",
     "exception": false,
     "start_time": "2024-07-22T16:46:29.986846",
     "status": "completed"
    },
    "tags": []
   },
   "outputs": [
    {
     "data": {
      "text/plain": [
       "973"
      ]
     },
     "execution_count": 8,
     "metadata": {},
     "output_type": "execute_result"
    }
   ],
   "source": [
    "len(data)"
   ]
  },
  {
   "cell_type": "code",
   "execution_count": 9,
   "id": "3b893e0f",
   "metadata": {
    "execution": {
     "iopub.execute_input": "2024-07-22T16:46:30.061144Z",
     "iopub.status.busy": "2024-07-22T16:46:30.060705Z",
     "iopub.status.idle": "2024-07-22T16:46:30.076074Z",
     "shell.execute_reply": "2024-07-22T16:46:30.074446Z"
    },
    "executionInfo": {
     "elapsed": 18,
     "status": "ok",
     "timestamp": 1721666269216,
     "user": {
      "displayName": "Jak Ok",
      "userId": "18314609704934874610"
     },
     "user_tz": -180
    },
    "id": "NqJRtqBrF861",
    "outputId": "98437f0c-5761-485e-c5f4-acfe82314812",
    "papermill": {
     "duration": 0.039912,
     "end_time": "2024-07-22T16:46:30.079000",
     "exception": false,
     "start_time": "2024-07-22T16:46:30.039088",
     "status": "completed"
    },
    "tags": []
   },
   "outputs": [
    {
     "data": {
      "text/html": [
       "<div>\n",
       "<style scoped>\n",
       "    .dataframe tbody tr th:only-of-type {\n",
       "        vertical-align: middle;\n",
       "    }\n",
       "\n",
       "    .dataframe tbody tr th {\n",
       "        vertical-align: top;\n",
       "    }\n",
       "\n",
       "    .dataframe thead th {\n",
       "        text-align: right;\n",
       "    }\n",
       "</style>\n",
       "<table border=\"1\" class=\"dataframe\">\n",
       "  <thead>\n",
       "    <tr style=\"text-align: right;\">\n",
       "      <th></th>\n",
       "      <th>RestaurantID</th>\n",
       "      <th>MenuCategory</th>\n",
       "      <th>MenuItem</th>\n",
       "      <th>Ingredients</th>\n",
       "      <th>Price</th>\n",
       "      <th>Profitability</th>\n",
       "    </tr>\n",
       "  </thead>\n",
       "  <tbody>\n",
       "    <tr>\n",
       "      <th>995</th>\n",
       "      <td>R003</td>\n",
       "      <td>Beverages</td>\n",
       "      <td>Soda</td>\n",
       "      <td>['confidential']</td>\n",
       "      <td>2.16</td>\n",
       "      <td>Low</td>\n",
       "    </tr>\n",
       "    <tr>\n",
       "      <th>996</th>\n",
       "      <td>R001</td>\n",
       "      <td>Appetizers</td>\n",
       "      <td>Caprese Salad</td>\n",
       "      <td>['Tomatoes', 'Basil', 'Garlic', 'Olive Oil']</td>\n",
       "      <td>11.86</td>\n",
       "      <td>Medium</td>\n",
       "    </tr>\n",
       "    <tr>\n",
       "      <th>997</th>\n",
       "      <td>R003</td>\n",
       "      <td>Main Course</td>\n",
       "      <td>Vegetable Stir-Fry</td>\n",
       "      <td>['Chicken', 'Fettuccine', 'Alfredo Sauce', 'Pa...</td>\n",
       "      <td>20.57</td>\n",
       "      <td>High</td>\n",
       "    </tr>\n",
       "    <tr>\n",
       "      <th>998</th>\n",
       "      <td>R002</td>\n",
       "      <td>Desserts</td>\n",
       "      <td>Tiramisu</td>\n",
       "      <td>['Chocolate', 'Butter', 'Sugar', 'Eggs']</td>\n",
       "      <td>18.80</td>\n",
       "      <td>High</td>\n",
       "    </tr>\n",
       "    <tr>\n",
       "      <th>999</th>\n",
       "      <td>R001</td>\n",
       "      <td>Beverages</td>\n",
       "      <td>Soda</td>\n",
       "      <td>['confidential']</td>\n",
       "      <td>4.26</td>\n",
       "      <td>Medium</td>\n",
       "    </tr>\n",
       "  </tbody>\n",
       "</table>\n",
       "</div>"
      ],
      "text/plain": [
       "    RestaurantID MenuCategory            MenuItem  \\\n",
       "995         R003    Beverages                Soda   \n",
       "996         R001   Appetizers       Caprese Salad   \n",
       "997         R003  Main Course  Vegetable Stir-Fry   \n",
       "998         R002     Desserts            Tiramisu   \n",
       "999         R001    Beverages                Soda   \n",
       "\n",
       "                                           Ingredients  Price Profitability  \n",
       "995                                   ['confidential']   2.16           Low  \n",
       "996       ['Tomatoes', 'Basil', 'Garlic', 'Olive Oil']  11.86        Medium  \n",
       "997  ['Chicken', 'Fettuccine', 'Alfredo Sauce', 'Pa...  20.57          High  \n",
       "998           ['Chocolate', 'Butter', 'Sugar', 'Eggs']  18.80          High  \n",
       "999                                   ['confidential']   4.26        Medium  "
      ]
     },
     "execution_count": 9,
     "metadata": {},
     "output_type": "execute_result"
    }
   ],
   "source": [
    "data.tail()"
   ]
  },
  {
   "cell_type": "code",
   "execution_count": 10,
   "id": "4d212b15",
   "metadata": {
    "execution": {
     "iopub.execute_input": "2024-07-22T16:46:30.122513Z",
     "iopub.status.busy": "2024-07-22T16:46:30.122116Z",
     "iopub.status.idle": "2024-07-22T16:46:30.355724Z",
     "shell.execute_reply": "2024-07-22T16:46:30.354397Z"
    },
    "executionInfo": {
     "elapsed": 655,
     "status": "ok",
     "timestamp": 1721666269856,
     "user": {
      "displayName": "Jak Ok",
      "userId": "18314609704934874610"
     },
     "user_tz": -180
    },
    "id": "CE8eYk-8aHOz",
    "outputId": "b6a715b3-6dfd-46c9-ebce-424e9b92e12a",
    "papermill": {
     "duration": 0.258445,
     "end_time": "2024-07-22T16:46:30.358680",
     "exception": false,
     "start_time": "2024-07-22T16:46:30.100235",
     "status": "completed"
    },
    "tags": []
   },
   "outputs": [
    {
     "data": {
      "text/plain": [
       "<Axes: xlabel='Profitability', ylabel='count'>"
      ]
     },
     "execution_count": 10,
     "metadata": {},
     "output_type": "execute_result"
    },
    {
     "data": {
      "image/png": "[encoded data removed]",
      "text/plain": [
       "<Figure size 640x480 with 1 Axes>"
      ]
     },
     "metadata": {},
     "output_type": "display_data"
    }
   ],
   "source": [
    "#UnBalanced\n",
    "sns.countplot(x =data['Profitability'])"
   ]
  },
  {
   "cell_type": "code",
   "execution_count": 11,
   "id": "7fd772cf",
   "metadata": {
    "execution": {
     "iopub.execute_input": "2024-07-22T16:46:30.402656Z",
     "iopub.status.busy": "2024-07-22T16:46:30.402275Z",
     "iopub.status.idle": "2024-07-22T16:46:30.788382Z",
     "shell.execute_reply": "2024-07-22T16:46:30.787044Z"
    },
    "executionInfo": {
     "elapsed": 834,
     "status": "ok",
     "timestamp": 1721666270681,
     "user": {
      "displayName": "Jak Ok",
      "userId": "18314609704934874610"
     },
     "user_tz": -180
    },
    "id": "yTMrRkepeEEq",
    "outputId": "9cc1a7eb-6298-4c76-f451-3bebef8bb4ba",
    "papermill": {
     "duration": 0.411438,
     "end_time": "2024-07-22T16:46:30.791239",
     "exception": false,
     "start_time": "2024-07-22T16:46:30.379801",
     "status": "completed"
    },
    "tags": []
   },
   "outputs": [
    {
     "name": "stderr",
     "output_type": "stream",
     "text": [
      "/opt/conda/lib/python3.10/site-packages/seaborn/_oldcore.py:1119: FutureWarning: use_inf_as_na option is deprecated and will be removed in a future version. Convert inf values to NaN before operating instead.\n",
      "  with pd.option_context('mode.use_inf_as_na', True):\n"
     ]
    },
    {
     "data": {
      "text/plain": [
       "<matplotlib.lines.Line2D at 0x7a0b013a8490>"
      ]
     },
     "execution_count": 11,
     "metadata": {},
     "output_type": "execute_result"
    },
    {
     "data": {
      "image/png": "[encoded data removed]",
      "text/plain": [
       "<Figure size 640x480 with 1 Axes>"
      ]
     },
     "metadata": {},
     "output_type": "display_data"
    }
   ],
   "source": [
    "g=sns.histplot(data['Price'], kde=True)\n",
    "g.lines[0].set_color('black')\n",
    "g.axvline(x=data['Price'].mean(), color='b', label='Mean', linestyle='--', linewidth=2)\n",
    "g.axvline(x=data['Price'].median(), color='g', label='Median', linestyle='--', linewidth=2)"
   ]
  },
  {
   "cell_type": "code",
   "execution_count": 12,
   "id": "847b0971",
   "metadata": {
    "execution": {
     "iopub.execute_input": "2024-07-22T16:46:30.838050Z",
     "iopub.status.busy": "2024-07-22T16:46:30.837559Z",
     "iopub.status.idle": "2024-07-22T16:46:31.098739Z",
     "shell.execute_reply": "2024-07-22T16:46:31.097356Z"
    },
    "executionInfo": {
     "elapsed": 16,
     "status": "ok",
     "timestamp": 1721666270682,
     "user": {
      "displayName": "Jak Ok",
      "userId": "18314609704934874610"
     },
     "user_tz": -180
    },
    "id": "tGdkTAw9eJZi",
    "outputId": "0e14cda8-ba1b-44c6-d7ce-507b1e5a8041",
    "papermill": {
     "duration": 0.287731,
     "end_time": "2024-07-22T16:46:31.101600",
     "exception": false,
     "start_time": "2024-07-22T16:46:30.813869",
     "status": "completed"
    },
    "tags": []
   },
   "outputs": [
    {
     "data": {
      "text/plain": [
       "<Axes: xlabel='MenuCategory', ylabel='count'>"
      ]
     },
     "execution_count": 12,
     "metadata": {},
     "output_type": "execute_result"
    },
    {
     "data": {
      "image/png": "[encoded data removed]",
      "text/plain": [
       "<Figure size 640x480 with 1 Axes>"
      ]
     },
     "metadata": {},
     "output_type": "display_data"
    }
   ],
   "source": [
    "sns.countplot(x= data['MenuCategory'])"
   ]
  },
  {
   "cell_type": "code",
   "execution_count": 13,
   "id": "63881ca5",
   "metadata": {
    "execution": {
     "iopub.execute_input": "2024-07-22T16:46:31.152836Z",
     "iopub.status.busy": "2024-07-22T16:46:31.152377Z",
     "iopub.status.idle": "2024-07-22T16:46:31.638586Z",
     "shell.execute_reply": "2024-07-22T16:46:31.637366Z"
    },
    "executionInfo": {
     "elapsed": 1120,
     "status": "ok",
     "timestamp": 1721666271790,
     "user": {
      "displayName": "Jak Ok",
      "userId": "18314609704934874610"
     },
     "user_tz": -180
    },
    "id": "Vf6GSEiEfh8s",
    "outputId": "a76ba6e6-8c2b-4fa7-8e1f-eb6b3aa38488",
    "papermill": {
     "duration": 0.515654,
     "end_time": "2024-07-22T16:46:31.642235",
     "exception": false,
     "start_time": "2024-07-22T16:46:31.126581",
     "status": "completed"
    },
    "tags": []
   },
   "outputs": [
    {
     "data": {
      "text/plain": [
       "<Axes: xlabel='count', ylabel='MenuItem'>"
      ]
     },
     "execution_count": 13,
     "metadata": {},
     "output_type": "execute_result"
    },
    {
     "data": {
      "image/png": "[encoded data removed]",
      "text/plain": [
       "<Figure size 640x480 with 1 Axes>"
      ]
     },
     "metadata": {},
     "output_type": "display_data"
    }
   ],
   "source": [
    "sns.countplot( y=data['MenuItem'])"
   ]
  },
  {
   "cell_type": "code",
   "execution_count": 14,
   "id": "197dbe82",
   "metadata": {
    "execution": {
     "iopub.execute_input": "2024-07-22T16:46:31.693438Z",
     "iopub.status.busy": "2024-07-22T16:46:31.692040Z",
     "iopub.status.idle": "2024-07-22T16:46:31.924083Z",
     "shell.execute_reply": "2024-07-22T16:46:31.922888Z"
    },
    "executionInfo": {
     "elapsed": 44,
     "status": "ok",
     "timestamp": 1721666271791,
     "user": {
      "displayName": "Jak Ok",
      "userId": "18314609704934874610"
     },
     "user_tz": -180
    },
    "id": "BYWfTnyEf9Hs",
    "outputId": "870f10d9-b671-4fa0-dafd-bb6aac5e9a16",
    "papermill": {
     "duration": 0.260852,
     "end_time": "2024-07-22T16:46:31.927778",
     "exception": false,
     "start_time": "2024-07-22T16:46:31.666926",
     "status": "completed"
    },
    "tags": []
   },
   "outputs": [
    {
     "data": {
      "text/plain": [
       "<Axes: xlabel='count', ylabel='Ingredients'>"
      ]
     },
     "execution_count": 14,
     "metadata": {},
     "output_type": "execute_result"
    },
    {
     "data": {
      "image/png": "[encoded data removed]",
      "text/plain": [
       "<Figure size 640x480 with 1 Axes>"
      ]
     },
     "metadata": {},
     "output_type": "display_data"
    }
   ],
   "source": [
    "sns.countplot( y= data['Ingredients'])"
   ]
  },
  {
   "cell_type": "code",
   "execution_count": 15,
   "id": "f91443e2",
   "metadata": {
    "execution": {
     "iopub.execute_input": "2024-07-22T16:46:31.981964Z",
     "iopub.status.busy": "2024-07-22T16:46:31.981496Z",
     "iopub.status.idle": "2024-07-22T16:46:31.995037Z",
     "shell.execute_reply": "2024-07-22T16:46:31.993746Z"
    },
    "executionInfo": {
     "elapsed": 34,
     "status": "ok",
     "timestamp": 1721666271791,
     "user": {
      "displayName": "Jak Ok",
      "userId": "18314609704934874610"
     },
     "user_tz": -180
    },
    "id": "BLYT66FBSzvx",
    "outputId": "515fad8a-d8a4-4371-b8f4-61d10e6a50fc",
    "papermill": {
     "duration": 0.045206,
     "end_time": "2024-07-22T16:46:31.997958",
     "exception": false,
     "start_time": "2024-07-22T16:46:31.952752",
     "status": "completed"
    },
    "tags": []
   },
   "outputs": [
    {
     "data": {
      "text/plain": [
       "MenuCategory\n",
       "Beverages      88\n",
       "Desserts       81\n",
       "Appetizers     77\n",
       "Main Course    69\n",
       "Name: count, dtype: int64"
      ]
     },
     "execution_count": 15,
     "metadata": {},
     "output_type": "execute_result"
    }
   ],
   "source": [
    "#_wrapper={'Low':0,\"Medium\":1,\"High\":2}\n",
    "#data.Profitability.replace(sex_wrapper,inplace=True)\n",
    "data[data[\"RestaurantID\"]=='R003']['MenuCategory'].value_counts()"
   ]
  },
  {
   "cell_type": "code",
   "execution_count": 16,
   "id": "8ee2626d",
   "metadata": {
    "execution": {
     "iopub.execute_input": "2024-07-22T16:46:32.050078Z",
     "iopub.status.busy": "2024-07-22T16:46:32.049623Z",
     "iopub.status.idle": "2024-07-22T16:46:32.061984Z",
     "shell.execute_reply": "2024-07-22T16:46:32.060767Z"
    },
    "executionInfo": {
     "elapsed": 32,
     "status": "ok",
     "timestamp": 1721666271792,
     "user": {
      "displayName": "Jak Ok",
      "userId": "18314609704934874610"
     },
     "user_tz": -180
    },
    "id": "pzK3hahxZdyF",
    "outputId": "12c3edd1-41ee-4e56-bd8a-a4dc81b16131",
    "papermill": {
     "duration": 0.040569,
     "end_time": "2024-07-22T16:46:32.064420",
     "exception": false,
     "start_time": "2024-07-22T16:46:32.023851",
     "status": "completed"
    },
    "tags": []
   },
   "outputs": [
    {
     "data": {
      "text/plain": [
       "MenuCategory\n",
       "Desserts       85\n",
       "Main Course    81\n",
       "Appetizers     76\n",
       "Beverages      73\n",
       "Name: count, dtype: int64"
      ]
     },
     "execution_count": 16,
     "metadata": {},
     "output_type": "execute_result"
    }
   ],
   "source": [
    "data[data[\"RestaurantID\"]=='R002']['MenuCategory'].value_counts()"
   ]
  },
  {
   "cell_type": "code",
   "execution_count": 17,
   "id": "d1c1640e",
   "metadata": {
    "execution": {
     "iopub.execute_input": "2024-07-22T16:46:32.114591Z",
     "iopub.status.busy": "2024-07-22T16:46:32.114150Z",
     "iopub.status.idle": "2024-07-22T16:46:32.125215Z",
     "shell.execute_reply": "2024-07-22T16:46:32.123765Z"
    },
    "executionInfo": {
     "elapsed": 29,
     "status": "ok",
     "timestamp": 1721666271792,
     "user": {
      "displayName": "Jak Ok",
      "userId": "18314609704934874610"
     },
     "user_tz": -180
    },
    "id": "v1PHzrs9Zith",
    "outputId": "c46f4f50-f911-476b-f709-11dabcf564b8",
    "papermill": {
     "duration": 0.039414,
     "end_time": "2024-07-22T16:46:32.127984",
     "exception": false,
     "start_time": "2024-07-22T16:46:32.088570",
     "status": "completed"
    },
    "tags": []
   },
   "outputs": [
    {
     "data": {
      "text/plain": [
       "MenuCategory\n",
       "Appetizers     95\n",
       "Beverages      87\n",
       "Desserts       87\n",
       "Main Course    74\n",
       "Name: count, dtype: int64"
      ]
     },
     "execution_count": 17,
     "metadata": {},
     "output_type": "execute_result"
    }
   ],
   "source": [
    "data[data[\"RestaurantID\"]=='R001']['MenuCategory'].value_counts()"
   ]
  },
  {
   "cell_type": "code",
   "execution_count": 18,
   "id": "d80d8b5b",
   "metadata": {
    "execution": {
     "iopub.execute_input": "2024-07-22T16:46:32.182265Z",
     "iopub.status.busy": "2024-07-22T16:46:32.180566Z",
     "iopub.status.idle": "2024-07-22T16:46:32.190592Z",
     "shell.execute_reply": "2024-07-22T16:46:32.189328Z"
    },
    "executionInfo": {
     "elapsed": 27,
     "status": "ok",
     "timestamp": 1721666271793,
     "user": {
      "displayName": "Jak Ok",
      "userId": "18314609704934874610"
     },
     "user_tz": -180
    },
    "id": "xxO_QWJw8zGF",
    "papermill": {
     "duration": 0.039939,
     "end_time": "2024-07-22T16:46:32.193502",
     "exception": false,
     "start_time": "2024-07-22T16:46:32.153563",
     "status": "completed"
    },
    "tags": []
   },
   "outputs": [],
   "source": [
    "data.drop('RestaurantID',inplace=True,axis=1)"
   ]
  },
  {
   "cell_type": "code",
   "execution_count": 19,
   "id": "29ba80d6",
   "metadata": {
    "execution": {
     "iopub.execute_input": "2024-07-22T16:46:32.244793Z",
     "iopub.status.busy": "2024-07-22T16:46:32.243518Z",
     "iopub.status.idle": "2024-07-22T16:46:32.260146Z",
     "shell.execute_reply": "2024-07-22T16:46:32.258804Z"
    },
    "executionInfo": {
     "elapsed": 27,
     "status": "ok",
     "timestamp": 1721666271793,
     "user": {
      "displayName": "Jak Ok",
      "userId": "18314609704934874610"
     },
     "user_tz": -180
    },
    "id": "CKkgg5r2DKYy",
    "outputId": "5f188702-d3ce-4170-f9b5-4d98bec62e3e",
    "papermill": {
     "duration": 0.046199,
     "end_time": "2024-07-22T16:46:32.264068",
     "exception": false,
     "start_time": "2024-07-22T16:46:32.217869",
     "status": "completed"
    },
    "tags": []
   },
   "outputs": [
    {
     "name": "stdout",
     "output_type": "stream",
     "text": [
      "<class 'pandas.core.frame.DataFrame'>\n",
      "Index: 973 entries, 0 to 999\n",
      "Data columns (total 5 columns):\n",
      " #   Column         Non-Null Count  Dtype  \n",
      "---  ------         --------------  -----  \n",
      " 0   MenuCategory   973 non-null    object \n",
      " 1   MenuItem       973 non-null    object \n",
      " 2   Ingredients    973 non-null    object \n",
      " 3   Price          973 non-null    float64\n",
      " 4   Profitability  973 non-null    object \n",
      "dtypes: float64(1), object(4)\n",
      "memory usage: 45.6+ KB\n"
     ]
    }
   ],
   "source": [
    "data.info()"
   ]
  },
  {
   "cell_type": "code",
   "execution_count": 20,
   "id": "bd181619",
   "metadata": {
    "execution": {
     "iopub.execute_input": "2024-07-22T16:46:32.316299Z",
     "iopub.status.busy": "2024-07-22T16:46:32.315869Z",
     "iopub.status.idle": "2024-07-22T16:46:32.323430Z",
     "shell.execute_reply": "2024-07-22T16:46:32.322351Z"
    },
    "executionInfo": {
     "elapsed": 24,
     "status": "ok",
     "timestamp": 1721666271793,
     "user": {
      "displayName": "Jak Ok",
      "userId": "18314609704934874610"
     },
     "user_tz": -180
    },
    "id": "mL-p1Rv9JPIl",
    "outputId": "899a1a6e-0b4f-4b73-8acc-b14d82e68286",
    "papermill": {
     "duration": 0.035919,
     "end_time": "2024-07-22T16:46:32.325992",
     "exception": false,
     "start_time": "2024-07-22T16:46:32.290073",
     "status": "completed"
    },
    "tags": []
   },
   "outputs": [
    {
     "data": {
      "text/plain": [
       "973"
      ]
     },
     "execution_count": 20,
     "metadata": {},
     "output_type": "execute_result"
    }
   ],
   "source": [
    "len(data['MenuItem'])"
   ]
  },
  {
   "cell_type": "code",
   "execution_count": 21,
   "id": "13ecf5fb",
   "metadata": {
    "execution": {
     "iopub.execute_input": "2024-07-22T16:46:32.377591Z",
     "iopub.status.busy": "2024-07-22T16:46:32.376548Z",
     "iopub.status.idle": "2024-07-22T16:46:32.387144Z",
     "shell.execute_reply": "2024-07-22T16:46:32.385638Z"
    },
    "executionInfo": {
     "elapsed": 22,
     "status": "ok",
     "timestamp": 1721666271794,
     "user": {
      "displayName": "Jak Ok",
      "userId": "18314609704934874610"
     },
     "user_tz": -180
    },
    "id": "Zs1KrhSqIT1G",
    "outputId": "26656f30-fb96-492c-f2bd-f2e9cd9bfadf",
    "papermill": {
     "duration": 0.039779,
     "end_time": "2024-07-22T16:46:32.390205",
     "exception": false,
     "start_time": "2024-07-22T16:46:32.350426",
     "status": "completed"
    },
    "tags": []
   },
   "outputs": [
    {
     "data": {
      "text/plain": [
       "MenuItem\n",
       "New York Cheesecake      70\n",
       "Tiramisu                 69\n",
       "Soda                     66\n",
       "Vegetable Stir-Fry       66\n",
       "Caprese Salad            65\n",
       "Iced Tea                 64\n",
       "Coffee                   63\n",
       "Spinach Artichoke Dip    62\n",
       "Bruschetta               62\n",
       "Fruit Tart               60\n",
       "Stuffed Mushrooms        59\n",
       "Grilled Steak            55\n",
       "Lemonade                 55\n",
       "Chocolate Lava Cake      54\n",
       "Shrimp Scampi            54\n",
       "Chicken Alfredo          49\n",
       "Name: count, dtype: int64"
      ]
     },
     "execution_count": 21,
     "metadata": {},
     "output_type": "execute_result"
    }
   ],
   "source": [
    "data['MenuItem'].value_counts()"
   ]
  },
  {
   "cell_type": "code",
   "execution_count": 22,
   "id": "527b2633",
   "metadata": {
    "execution": {
     "iopub.execute_input": "2024-07-22T16:46:32.442685Z",
     "iopub.status.busy": "2024-07-22T16:46:32.442234Z",
     "iopub.status.idle": "2024-07-22T16:46:32.448446Z",
     "shell.execute_reply": "2024-07-22T16:46:32.447277Z"
    },
    "executionInfo": {
     "elapsed": 19,
     "status": "ok",
     "timestamp": 1721666271794,
     "user": {
      "displayName": "Jak Ok",
      "userId": "18314609704934874610"
     },
     "user_tz": -180
    },
    "id": "nGuK-amjIa8q",
    "papermill": {
     "duration": 0.035407,
     "end_time": "2024-07-22T16:46:32.451120",
     "exception": false,
     "start_time": "2024-07-22T16:46:32.415713",
     "status": "completed"
    },
    "tags": []
   },
   "outputs": [],
   "source": [
    "cols = ['MenuItem_Iced Tea','MenuItem_New York Cheesecake','MenuItem_Tiramisu','MenuItem_Soda','MenuItem_Caprese Salad','MenuItem_Vegetable Stir-Fry','MenuItem_Coffee','MenuItem_Spinach Artichoke Dip','MenuItem_Bruschetta','MenuItem_Fruit Tart','MenuItem_Mushrooms','MenuItem_Lemonade','MenuItem_Chocolate Lava Cake','MenuItem_Grilled Steak','MenuItem_Shrimp Scampi','MenuItem_Chicken Alfredo']"
   ]
  },
  {
   "cell_type": "code",
   "execution_count": 23,
   "id": "aa6aa8b3",
   "metadata": {
    "execution": {
     "iopub.execute_input": "2024-07-22T16:46:32.565735Z",
     "iopub.status.busy": "2024-07-22T16:46:32.564617Z",
     "iopub.status.idle": "2024-07-22T16:46:32.576832Z",
     "shell.execute_reply": "2024-07-22T16:46:32.575826Z"
    },
    "executionInfo": {
     "elapsed": 18,
     "status": "ok",
     "timestamp": 1721666271794,
     "user": {
      "displayName": "Jak Ok",
      "userId": "18314609704934874610"
     },
     "user_tz": -180
    },
    "id": "utnEU23hAzay",
    "papermill": {
     "duration": 0.041288,
     "end_time": "2024-07-22T16:46:32.579630",
     "exception": false,
     "start_time": "2024-07-22T16:46:32.538342",
     "status": "completed"
    },
    "tags": []
   },
   "outputs": [],
   "source": [
    "\n",
    "one_encoder =OneHotEncoder()\n",
    "Menu_encoded =one_encoder.fit_transform(data[['MenuItem']]).toarray()\n",
    "feature_names = one_encoder.get_feature_names_out(['MenuItem'])\n"
   ]
  },
  {
   "cell_type": "code",
   "execution_count": 24,
   "id": "9c156213",
   "metadata": {
    "execution": {
     "iopub.execute_input": "2024-07-22T16:46:32.632054Z",
     "iopub.status.busy": "2024-07-22T16:46:32.631541Z",
     "iopub.status.idle": "2024-07-22T16:46:32.637654Z",
     "shell.execute_reply": "2024-07-22T16:46:32.636252Z"
    },
    "executionInfo": {
     "elapsed": 18,
     "status": "ok",
     "timestamp": 1721666271795,
     "user": {
      "displayName": "Jak Ok",
      "userId": "18314609704934874610"
     },
     "user_tz": -180
    },
    "id": "DGS_VFhDMt-y",
    "papermill": {
     "duration": 0.03566,
     "end_time": "2024-07-22T16:46:32.640520",
     "exception": false,
     "start_time": "2024-07-22T16:46:32.604860",
     "status": "completed"
    },
    "tags": []
   },
   "outputs": [],
   "source": [
    "M_encoded =pd.DataFrame(Menu_encoded,columns=feature_names)"
   ]
  },
  {
   "cell_type": "code",
   "execution_count": 25,
   "id": "bea90a4e",
   "metadata": {
    "execution": {
     "iopub.execute_input": "2024-07-22T16:46:32.693074Z",
     "iopub.status.busy": "2024-07-22T16:46:32.692588Z",
     "iopub.status.idle": "2024-07-22T16:46:32.723154Z",
     "shell.execute_reply": "2024-07-22T16:46:32.721921Z"
    },
    "executionInfo": {
     "elapsed": 783,
     "status": "ok",
     "timestamp": 1721666272560,
     "user": {
      "displayName": "Jak Ok",
      "userId": "18314609704934874610"
     },
     "user_tz": -180
    },
    "id": "IIW1wcTgM1dk",
    "outputId": "08c38d0b-3b21-4641-8604-f1d5bb5da912",
    "papermill": {
     "duration": 0.060262,
     "end_time": "2024-07-22T16:46:32.725729",
     "exception": false,
     "start_time": "2024-07-22T16:46:32.665467",
     "status": "completed"
    },
    "tags": []
   },
   "outputs": [
    {
     "data": {
      "text/html": [
       "<div>\n",
       "<style scoped>\n",
       "    .dataframe tbody tr th:only-of-type {\n",
       "        vertical-align: middle;\n",
       "    }\n",
       "\n",
       "    .dataframe tbody tr th {\n",
       "        vertical-align: top;\n",
       "    }\n",
       "\n",
       "    .dataframe thead th {\n",
       "        text-align: right;\n",
       "    }\n",
       "</style>\n",
       "<table border=\"1\" class=\"dataframe\">\n",
       "  <thead>\n",
       "    <tr style=\"text-align: right;\">\n",
       "      <th></th>\n",
       "      <th>MenuItem_Bruschetta</th>\n",
       "      <th>MenuItem_Caprese Salad</th>\n",
       "      <th>MenuItem_Chicken Alfredo</th>\n",
       "      <th>MenuItem_Chocolate Lava Cake</th>\n",
       "      <th>MenuItem_Coffee</th>\n",
       "      <th>MenuItem_Fruit Tart</th>\n",
       "      <th>MenuItem_Grilled Steak</th>\n",
       "      <th>MenuItem_Iced Tea</th>\n",
       "      <th>MenuItem_Lemonade</th>\n",
       "      <th>MenuItem_New York Cheesecake</th>\n",
       "      <th>MenuItem_Shrimp Scampi</th>\n",
       "      <th>MenuItem_Soda</th>\n",
       "      <th>MenuItem_Spinach Artichoke Dip</th>\n",
       "      <th>MenuItem_Stuffed Mushrooms</th>\n",
       "      <th>MenuItem_Tiramisu</th>\n",
       "      <th>MenuItem_Vegetable Stir-Fry</th>\n",
       "    </tr>\n",
       "  </thead>\n",
       "  <tbody>\n",
       "    <tr>\n",
       "      <th>0</th>\n",
       "      <td>0.0</td>\n",
       "      <td>0.0</td>\n",
       "      <td>0.0</td>\n",
       "      <td>0.0</td>\n",
       "      <td>0.0</td>\n",
       "      <td>0.0</td>\n",
       "      <td>0.0</td>\n",
       "      <td>0.0</td>\n",
       "      <td>0.0</td>\n",
       "      <td>0.0</td>\n",
       "      <td>0.0</td>\n",
       "      <td>1.0</td>\n",
       "      <td>0.0</td>\n",
       "      <td>0.0</td>\n",
       "      <td>0.0</td>\n",
       "      <td>0.0</td>\n",
       "    </tr>\n",
       "    <tr>\n",
       "      <th>1</th>\n",
       "      <td>0.0</td>\n",
       "      <td>0.0</td>\n",
       "      <td>0.0</td>\n",
       "      <td>0.0</td>\n",
       "      <td>0.0</td>\n",
       "      <td>0.0</td>\n",
       "      <td>0.0</td>\n",
       "      <td>0.0</td>\n",
       "      <td>0.0</td>\n",
       "      <td>0.0</td>\n",
       "      <td>0.0</td>\n",
       "      <td>0.0</td>\n",
       "      <td>1.0</td>\n",
       "      <td>0.0</td>\n",
       "      <td>0.0</td>\n",
       "      <td>0.0</td>\n",
       "    </tr>\n",
       "    <tr>\n",
       "      <th>2</th>\n",
       "      <td>0.0</td>\n",
       "      <td>0.0</td>\n",
       "      <td>0.0</td>\n",
       "      <td>0.0</td>\n",
       "      <td>0.0</td>\n",
       "      <td>0.0</td>\n",
       "      <td>0.0</td>\n",
       "      <td>0.0</td>\n",
       "      <td>0.0</td>\n",
       "      <td>1.0</td>\n",
       "      <td>0.0</td>\n",
       "      <td>0.0</td>\n",
       "      <td>0.0</td>\n",
       "      <td>0.0</td>\n",
       "      <td>0.0</td>\n",
       "      <td>0.0</td>\n",
       "    </tr>\n",
       "    <tr>\n",
       "      <th>3</th>\n",
       "      <td>0.0</td>\n",
       "      <td>0.0</td>\n",
       "      <td>1.0</td>\n",
       "      <td>0.0</td>\n",
       "      <td>0.0</td>\n",
       "      <td>0.0</td>\n",
       "      <td>0.0</td>\n",
       "      <td>0.0</td>\n",
       "      <td>0.0</td>\n",
       "      <td>0.0</td>\n",
       "      <td>0.0</td>\n",
       "      <td>0.0</td>\n",
       "      <td>0.0</td>\n",
       "      <td>0.0</td>\n",
       "      <td>0.0</td>\n",
       "      <td>0.0</td>\n",
       "    </tr>\n",
       "    <tr>\n",
       "      <th>4</th>\n",
       "      <td>0.0</td>\n",
       "      <td>0.0</td>\n",
       "      <td>0.0</td>\n",
       "      <td>0.0</td>\n",
       "      <td>0.0</td>\n",
       "      <td>0.0</td>\n",
       "      <td>1.0</td>\n",
       "      <td>0.0</td>\n",
       "      <td>0.0</td>\n",
       "      <td>0.0</td>\n",
       "      <td>0.0</td>\n",
       "      <td>0.0</td>\n",
       "      <td>0.0</td>\n",
       "      <td>0.0</td>\n",
       "      <td>0.0</td>\n",
       "      <td>0.0</td>\n",
       "    </tr>\n",
       "  </tbody>\n",
       "</table>\n",
       "</div>"
      ],
      "text/plain": [
       "   MenuItem_Bruschetta  MenuItem_Caprese Salad  MenuItem_Chicken Alfredo  \\\n",
       "0                  0.0                     0.0                       0.0   \n",
       "1                  0.0                     0.0                       0.0   \n",
       "2                  0.0                     0.0                       0.0   \n",
       "3                  0.0                     0.0                       1.0   \n",
       "4                  0.0                     0.0                       0.0   \n",
       "\n",
       "   MenuItem_Chocolate Lava Cake  MenuItem_Coffee  MenuItem_Fruit Tart  \\\n",
       "0                           0.0              0.0                  0.0   \n",
       "1                           0.0              0.0                  0.0   \n",
       "2                           0.0              0.0                  0.0   \n",
       "3                           0.0              0.0                  0.0   \n",
       "4                           0.0              0.0                  0.0   \n",
       "\n",
       "   MenuItem_Grilled Steak  MenuItem_Iced Tea  MenuItem_Lemonade  \\\n",
       "0                     0.0                0.0                0.0   \n",
       "1                     0.0                0.0                0.0   \n",
       "2                     0.0                0.0                0.0   \n",
       "3                     0.0                0.0                0.0   \n",
       "4                     1.0                0.0                0.0   \n",
       "\n",
       "   MenuItem_New York Cheesecake  MenuItem_Shrimp Scampi  MenuItem_Soda  \\\n",
       "0                           0.0                     0.0            1.0   \n",
       "1                           0.0                     0.0            0.0   \n",
       "2                           1.0                     0.0            0.0   \n",
       "3                           0.0                     0.0            0.0   \n",
       "4                           0.0                     0.0            0.0   \n",
       "\n",
       "   MenuItem_Spinach Artichoke Dip  MenuItem_Stuffed Mushrooms  \\\n",
       "0                             0.0                         0.0   \n",
       "1                             1.0                         0.0   \n",
       "2                             0.0                         0.0   \n",
       "3                             0.0                         0.0   \n",
       "4                             0.0                         0.0   \n",
       "\n",
       "   MenuItem_Tiramisu  MenuItem_Vegetable Stir-Fry  \n",
       "0                0.0                          0.0  \n",
       "1                0.0                          0.0  \n",
       "2                0.0                          0.0  \n",
       "3                0.0                          0.0  \n",
       "4                0.0                          0.0  "
      ]
     },
     "execution_count": 25,
     "metadata": {},
     "output_type": "execute_result"
    }
   ],
   "source": [
    "M_encoded.head()"
   ]
  },
  {
   "cell_type": "code",
   "execution_count": 26,
   "id": "58c00c55",
   "metadata": {
    "execution": {
     "iopub.execute_input": "2024-07-22T16:46:32.778535Z",
     "iopub.status.busy": "2024-07-22T16:46:32.778132Z",
     "iopub.status.idle": "2024-07-22T16:46:32.788126Z",
     "shell.execute_reply": "2024-07-22T16:46:32.786886Z"
    },
    "executionInfo": {
     "elapsed": 50,
     "status": "ok",
     "timestamp": 1721666272563,
     "user": {
      "displayName": "Jak Ok",
      "userId": "18314609704934874610"
     },
     "user_tz": -180
    },
    "id": "f0tDoGmERqtK",
    "papermill": {
     "duration": 0.039196,
     "end_time": "2024-07-22T16:46:32.790781",
     "exception": false,
     "start_time": "2024-07-22T16:46:32.751585",
     "status": "completed"
    },
    "tags": []
   },
   "outputs": [],
   "source": [
    "scalar =MinMaxScaler()\n",
    "p_scaled =scalar.fit_transform(data[['Price']])"
   ]
  },
  {
   "cell_type": "code",
   "execution_count": 27,
   "id": "a3677de0",
   "metadata": {
    "execution": {
     "iopub.execute_input": "2024-07-22T16:46:32.844048Z",
     "iopub.status.busy": "2024-07-22T16:46:32.843589Z",
     "iopub.status.idle": "2024-07-22T16:46:32.854741Z",
     "shell.execute_reply": "2024-07-22T16:46:32.853355Z"
    },
    "executionInfo": {
     "elapsed": 48,
     "status": "ok",
     "timestamp": 1721666272564,
     "user": {
      "displayName": "Jak Ok",
      "userId": "18314609704934874610"
     },
     "user_tz": -180
    },
    "id": "1cqZZlXkR9Sb",
    "papermill": {
     "duration": 0.040707,
     "end_time": "2024-07-22T16:46:32.857559",
     "exception": false,
     "start_time": "2024-07-22T16:46:32.816852",
     "status": "completed"
    },
    "tags": []
   },
   "outputs": [],
   "source": [
    "one_encoder =OneHotEncoder()\n",
    "category_encoded =one_encoder.fit_transform(data[['MenuCategory']]).toarray()\n",
    "feature_names1 = one_encoder.get_feature_names_out(['MenuCategory'])\n"
   ]
  },
  {
   "cell_type": "code",
   "execution_count": 28,
   "id": "d630b523",
   "metadata": {
    "execution": {
     "iopub.execute_input": "2024-07-22T16:46:32.910087Z",
     "iopub.status.busy": "2024-07-22T16:46:32.909622Z",
     "iopub.status.idle": "2024-07-22T16:46:32.915653Z",
     "shell.execute_reply": "2024-07-22T16:46:32.914265Z"
    },
    "executionInfo": {
     "elapsed": 47,
     "status": "ok",
     "timestamp": 1721666272564,
     "user": {
      "displayName": "Jak Ok",
      "userId": "18314609704934874610"
     },
     "user_tz": -180
    },
    "id": "2UIiCiCbSFk2",
    "papermill": {
     "duration": 0.035298,
     "end_time": "2024-07-22T16:46:32.918376",
     "exception": false,
     "start_time": "2024-07-22T16:46:32.883078",
     "status": "completed"
    },
    "tags": []
   },
   "outputs": [],
   "source": [
    "C_encoded =pd.DataFrame(category_encoded,columns=feature_names1)"
   ]
  },
  {
   "cell_type": "code",
   "execution_count": 29,
   "id": "fb596493",
   "metadata": {
    "execution": {
     "iopub.execute_input": "2024-07-22T16:46:32.971135Z",
     "iopub.status.busy": "2024-07-22T16:46:32.970339Z",
     "iopub.status.idle": "2024-07-22T16:46:32.980162Z",
     "shell.execute_reply": "2024-07-22T16:46:32.978470Z"
    },
    "executionInfo": {
     "elapsed": 48,
     "status": "ok",
     "timestamp": 1721666272565,
     "user": {
      "displayName": "Jak Ok",
      "userId": "18314609704934874610"
     },
     "user_tz": -180
    },
    "id": "Q3fGX8dXSDZO",
    "papermill": {
     "duration": 0.039115,
     "end_time": "2024-07-22T16:46:32.982975",
     "exception": false,
     "start_time": "2024-07-22T16:46:32.943860",
     "status": "completed"
    },
    "tags": []
   },
   "outputs": [],
   "source": [
    "\n",
    "Ingred_encoded =one_encoder.fit_transform(data[['Ingredients']]).toarray()\n",
    "feature_names3 = one_encoder.get_feature_names_out(['Ingredients'])\n"
   ]
  },
  {
   "cell_type": "code",
   "execution_count": 30,
   "id": "06f50895",
   "metadata": {
    "execution": {
     "iopub.execute_input": "2024-07-22T16:46:33.037964Z",
     "iopub.status.busy": "2024-07-22T16:46:33.036765Z",
     "iopub.status.idle": "2024-07-22T16:46:33.043236Z",
     "shell.execute_reply": "2024-07-22T16:46:33.042020Z"
    },
    "executionInfo": {
     "elapsed": 47,
     "status": "ok",
     "timestamp": 1721666272565,
     "user": {
      "displayName": "Jak Ok",
      "userId": "18314609704934874610"
     },
     "user_tz": -180
    },
    "id": "PKpMxo0wSpSW",
    "papermill": {
     "duration": 0.037751,
     "end_time": "2024-07-22T16:46:33.046028",
     "exception": false,
     "start_time": "2024-07-22T16:46:33.008277",
     "status": "completed"
    },
    "tags": []
   },
   "outputs": [],
   "source": [
    "I_encoded=pd.DataFrame(Ingred_encoded,columns=feature_names3)"
   ]
  },
  {
   "cell_type": "code",
   "execution_count": 31,
   "id": "4595c24d",
   "metadata": {
    "execution": {
     "iopub.execute_input": "2024-07-22T16:46:33.099224Z",
     "iopub.status.busy": "2024-07-22T16:46:33.098835Z",
     "iopub.status.idle": "2024-07-22T16:46:33.105850Z",
     "shell.execute_reply": "2024-07-22T16:46:33.104410Z"
    },
    "executionInfo": {
     "elapsed": 46,
     "status": "ok",
     "timestamp": 1721666272565,
     "user": {
      "displayName": "Jak Ok",
      "userId": "18314609704934874610"
     },
     "user_tz": -180
    },
    "id": "Mc2fqr11HVXW",
    "papermill": {
     "duration": 0.036808,
     "end_time": "2024-07-22T16:46:33.108718",
     "exception": false,
     "start_time": "2024-07-22T16:46:33.071910",
     "status": "completed"
    },
    "tags": []
   },
   "outputs": [],
   "source": [
    "x=data.drop([\"Profitability\",\"Price\"],axis=1)\n",
    "y=data[\"Profitability\"]"
   ]
  },
  {
   "cell_type": "code",
   "execution_count": 32,
   "id": "69c2a237",
   "metadata": {
    "execution": {
     "iopub.execute_input": "2024-07-22T16:46:33.164271Z",
     "iopub.status.busy": "2024-07-22T16:46:33.163767Z",
     "iopub.status.idle": "2024-07-22T16:46:33.170322Z",
     "shell.execute_reply": "2024-07-22T16:46:33.168993Z"
    },
    "executionInfo": {
     "elapsed": 47,
     "status": "ok",
     "timestamp": 1721666272566,
     "user": {
      "displayName": "Jak Ok",
      "userId": "18314609704934874610"
     },
     "user_tz": -180
    },
    "id": "6Y9aTVvIPIVE",
    "papermill": {
     "duration": 0.037069,
     "end_time": "2024-07-22T16:46:33.173593",
     "exception": false,
     "start_time": "2024-07-22T16:46:33.136524",
     "status": "completed"
    },
    "tags": []
   },
   "outputs": [],
   "source": [
    "\n",
    "price_df =pd.DataFrame(p_scaled,columns=['Price'])"
   ]
  },
  {
   "cell_type": "code",
   "execution_count": 33,
   "id": "2e0ec8e6",
   "metadata": {
    "execution": {
     "iopub.execute_input": "2024-07-22T16:46:33.226419Z",
     "iopub.status.busy": "2024-07-22T16:46:33.226013Z",
     "iopub.status.idle": "2024-07-22T16:46:33.237299Z",
     "shell.execute_reply": "2024-07-22T16:46:33.236073Z"
    },
    "executionInfo": {
     "elapsed": 46,
     "status": "ok",
     "timestamp": 1721666272566,
     "user": {
      "displayName": "Jak Ok",
      "userId": "18314609704934874610"
     },
     "user_tz": -180
    },
    "id": "JHfoNromORTp",
    "papermill": {
     "duration": 0.041177,
     "end_time": "2024-07-22T16:46:33.240123",
     "exception": false,
     "start_time": "2024-07-22T16:46:33.198946",
     "status": "completed"
    },
    "tags": []
   },
   "outputs": [],
   "source": [
    "x=pd.concat([C_encoded,M_encoded,I_encoded,x,price_df],axis=1)"
   ]
  },
  {
   "cell_type": "code",
   "execution_count": 34,
   "id": "cdb9ae0e",
   "metadata": {
    "execution": {
     "iopub.execute_input": "2024-07-22T16:46:33.295631Z",
     "iopub.status.busy": "2024-07-22T16:46:33.295209Z",
     "iopub.status.idle": "2024-07-22T16:46:33.302110Z",
     "shell.execute_reply": "2024-07-22T16:46:33.300909Z"
    },
    "executionInfo": {
     "elapsed": 46,
     "status": "ok",
     "timestamp": 1721666272567,
     "user": {
      "displayName": "Jak Ok",
      "userId": "18314609704934874610"
     },
     "user_tz": -180
    },
    "id": "ilxZmqorHeD4",
    "papermill": {
     "duration": 0.03841,
     "end_time": "2024-07-22T16:46:33.304756",
     "exception": false,
     "start_time": "2024-07-22T16:46:33.266346",
     "status": "completed"
    },
    "tags": []
   },
   "outputs": [],
   "source": [
    "x.drop(['MenuItem',\"MenuCategory\",\"Ingredients\"],inplace=True,axis=1)"
   ]
  },
  {
   "cell_type": "code",
   "execution_count": 35,
   "id": "297457d4",
   "metadata": {
    "execution": {
     "iopub.execute_input": "2024-07-22T16:46:33.362578Z",
     "iopub.status.busy": "2024-07-22T16:46:33.362138Z",
     "iopub.status.idle": "2024-07-22T16:46:33.401583Z",
     "shell.execute_reply": "2024-07-22T16:46:33.400121Z"
    },
    "executionInfo": {
     "elapsed": 45,
     "status": "ok",
     "timestamp": 1721666272567,
     "user": {
      "displayName": "Jak Ok",
      "userId": "18314609704934874610"
     },
     "user_tz": -180
    },
    "id": "X7iAE0XWQ4N4",
    "outputId": "a022bded-e2d0-44e4-8f93-4c22a4e9c49d",
    "papermill": {
     "duration": 0.071829,
     "end_time": "2024-07-22T16:46:33.404641",
     "exception": false,
     "start_time": "2024-07-22T16:46:33.332812",
     "status": "completed"
    },
    "tags": []
   },
   "outputs": [
    {
     "data": {
      "text/html": [
       "<div>\n",
       "<style scoped>\n",
       "    .dataframe tbody tr th:only-of-type {\n",
       "        vertical-align: middle;\n",
       "    }\n",
       "\n",
       "    .dataframe tbody tr th {\n",
       "        vertical-align: top;\n",
       "    }\n",
       "\n",
       "    .dataframe thead th {\n",
       "        text-align: right;\n",
       "    }\n",
       "</style>\n",
       "<table border=\"1\" class=\"dataframe\">\n",
       "  <thead>\n",
       "    <tr style=\"text-align: right;\">\n",
       "      <th></th>\n",
       "      <th>MenuCategory_Appetizers</th>\n",
       "      <th>MenuCategory_Beverages</th>\n",
       "      <th>MenuCategory_Desserts</th>\n",
       "      <th>MenuCategory_Main Course</th>\n",
       "      <th>MenuItem_Bruschetta</th>\n",
       "      <th>MenuItem_Caprese Salad</th>\n",
       "      <th>MenuItem_Chicken Alfredo</th>\n",
       "      <th>MenuItem_Chocolate Lava Cake</th>\n",
       "      <th>MenuItem_Coffee</th>\n",
       "      <th>MenuItem_Fruit Tart</th>\n",
       "      <th>...</th>\n",
       "      <th>MenuItem_Soda</th>\n",
       "      <th>MenuItem_Spinach Artichoke Dip</th>\n",
       "      <th>MenuItem_Stuffed Mushrooms</th>\n",
       "      <th>MenuItem_Tiramisu</th>\n",
       "      <th>MenuItem_Vegetable Stir-Fry</th>\n",
       "      <th>Ingredients_['Chicken', 'Fettuccine', 'Alfredo Sauce', 'Parmesan']</th>\n",
       "      <th>Ingredients_['Chocolate', 'Butter', 'Sugar', 'Eggs']</th>\n",
       "      <th>Ingredients_['Tomatoes', 'Basil', 'Garlic', 'Olive Oil']</th>\n",
       "      <th>Ingredients_['confidential']</th>\n",
       "      <th>Price</th>\n",
       "    </tr>\n",
       "  </thead>\n",
       "  <tbody>\n",
       "    <tr>\n",
       "      <th>0</th>\n",
       "      <td>0.0</td>\n",
       "      <td>1.0</td>\n",
       "      <td>0.0</td>\n",
       "      <td>0.0</td>\n",
       "      <td>0.0</td>\n",
       "      <td>0.0</td>\n",
       "      <td>0.0</td>\n",
       "      <td>0.0</td>\n",
       "      <td>0.0</td>\n",
       "      <td>0.0</td>\n",
       "      <td>...</td>\n",
       "      <td>1.0</td>\n",
       "      <td>0.0</td>\n",
       "      <td>0.0</td>\n",
       "      <td>0.0</td>\n",
       "      <td>0.0</td>\n",
       "      <td>0.0</td>\n",
       "      <td>0.0</td>\n",
       "      <td>0.0</td>\n",
       "      <td>1.0</td>\n",
       "      <td>0.019404</td>\n",
       "    </tr>\n",
       "    <tr>\n",
       "      <th>1</th>\n",
       "      <td>1.0</td>\n",
       "      <td>0.0</td>\n",
       "      <td>0.0</td>\n",
       "      <td>0.0</td>\n",
       "      <td>0.0</td>\n",
       "      <td>0.0</td>\n",
       "      <td>0.0</td>\n",
       "      <td>0.0</td>\n",
       "      <td>0.0</td>\n",
       "      <td>0.0</td>\n",
       "      <td>...</td>\n",
       "      <td>0.0</td>\n",
       "      <td>1.0</td>\n",
       "      <td>0.0</td>\n",
       "      <td>0.0</td>\n",
       "      <td>0.0</td>\n",
       "      <td>0.0</td>\n",
       "      <td>0.0</td>\n",
       "      <td>1.0</td>\n",
       "      <td>0.0</td>\n",
       "      <td>0.327345</td>\n",
       "    </tr>\n",
       "    <tr>\n",
       "      <th>2</th>\n",
       "      <td>0.0</td>\n",
       "      <td>0.0</td>\n",
       "      <td>1.0</td>\n",
       "      <td>0.0</td>\n",
       "      <td>0.0</td>\n",
       "      <td>0.0</td>\n",
       "      <td>0.0</td>\n",
       "      <td>0.0</td>\n",
       "      <td>0.0</td>\n",
       "      <td>0.0</td>\n",
       "      <td>...</td>\n",
       "      <td>0.0</td>\n",
       "      <td>0.0</td>\n",
       "      <td>0.0</td>\n",
       "      <td>0.0</td>\n",
       "      <td>0.0</td>\n",
       "      <td>0.0</td>\n",
       "      <td>1.0</td>\n",
       "      <td>0.0</td>\n",
       "      <td>0.0</td>\n",
       "      <td>0.598275</td>\n",
       "    </tr>\n",
       "    <tr>\n",
       "      <th>3</th>\n",
       "      <td>0.0</td>\n",
       "      <td>0.0</td>\n",
       "      <td>0.0</td>\n",
       "      <td>1.0</td>\n",
       "      <td>0.0</td>\n",
       "      <td>0.0</td>\n",
       "      <td>1.0</td>\n",
       "      <td>0.0</td>\n",
       "      <td>0.0</td>\n",
       "      <td>0.0</td>\n",
       "      <td>...</td>\n",
       "      <td>0.0</td>\n",
       "      <td>0.0</td>\n",
       "      <td>0.0</td>\n",
       "      <td>0.0</td>\n",
       "      <td>0.0</td>\n",
       "      <td>1.0</td>\n",
       "      <td>0.0</td>\n",
       "      <td>0.0</td>\n",
       "      <td>0.0</td>\n",
       "      <td>0.989580</td>\n",
       "    </tr>\n",
       "    <tr>\n",
       "      <th>4</th>\n",
       "      <td>0.0</td>\n",
       "      <td>0.0</td>\n",
       "      <td>0.0</td>\n",
       "      <td>1.0</td>\n",
       "      <td>0.0</td>\n",
       "      <td>0.0</td>\n",
       "      <td>0.0</td>\n",
       "      <td>0.0</td>\n",
       "      <td>0.0</td>\n",
       "      <td>0.0</td>\n",
       "      <td>...</td>\n",
       "      <td>0.0</td>\n",
       "      <td>0.0</td>\n",
       "      <td>0.0</td>\n",
       "      <td>0.0</td>\n",
       "      <td>0.0</td>\n",
       "      <td>1.0</td>\n",
       "      <td>0.0</td>\n",
       "      <td>0.0</td>\n",
       "      <td>0.0</td>\n",
       "      <td>0.564858</td>\n",
       "    </tr>\n",
       "  </tbody>\n",
       "</table>\n",
       "<p>5 rows × 25 columns</p>\n",
       "</div>"
      ],
      "text/plain": [
       "   MenuCategory_Appetizers  MenuCategory_Beverages  MenuCategory_Desserts  \\\n",
       "0                      0.0                     1.0                    0.0   \n",
       "1                      1.0                     0.0                    0.0   \n",
       "2                      0.0                     0.0                    1.0   \n",
       "3                      0.0                     0.0                    0.0   \n",
       "4                      0.0                     0.0                    0.0   \n",
       "\n",
       "   MenuCategory_Main Course  MenuItem_Bruschetta  MenuItem_Caprese Salad  \\\n",
       "0                       0.0                  0.0                     0.0   \n",
       "1                       0.0                  0.0                     0.0   \n",
       "2                       0.0                  0.0                     0.0   \n",
       "3                       1.0                  0.0                     0.0   \n",
       "4                       1.0                  0.0                     0.0   \n",
       "\n",
       "   MenuItem_Chicken Alfredo  MenuItem_Chocolate Lava Cake  MenuItem_Coffee  \\\n",
       "0                       0.0                           0.0              0.0   \n",
       "1                       0.0                           0.0              0.0   \n",
       "2                       0.0                           0.0              0.0   \n",
       "3                       1.0                           0.0              0.0   \n",
       "4                       0.0                           0.0              0.0   \n",
       "\n",
       "   MenuItem_Fruit Tart  ...  MenuItem_Soda  MenuItem_Spinach Artichoke Dip  \\\n",
       "0                  0.0  ...            1.0                             0.0   \n",
       "1                  0.0  ...            0.0                             1.0   \n",
       "2                  0.0  ...            0.0                             0.0   \n",
       "3                  0.0  ...            0.0                             0.0   \n",
       "4                  0.0  ...            0.0                             0.0   \n",
       "\n",
       "   MenuItem_Stuffed Mushrooms  MenuItem_Tiramisu  MenuItem_Vegetable Stir-Fry  \\\n",
       "0                         0.0                0.0                          0.0   \n",
       "1                         0.0                0.0                          0.0   \n",
       "2                         0.0                0.0                          0.0   \n",
       "3                         0.0                0.0                          0.0   \n",
       "4                         0.0                0.0                          0.0   \n",
       "\n",
       "   Ingredients_['Chicken', 'Fettuccine', 'Alfredo Sauce', 'Parmesan']  \\\n",
       "0                                                0.0                    \n",
       "1                                                0.0                    \n",
       "2                                                0.0                    \n",
       "3                                                1.0                    \n",
       "4                                                1.0                    \n",
       "\n",
       "   Ingredients_['Chocolate', 'Butter', 'Sugar', 'Eggs']  \\\n",
       "0                                                0.0      \n",
       "1                                                0.0      \n",
       "2                                                1.0      \n",
       "3                                                0.0      \n",
       "4                                                0.0      \n",
       "\n",
       "   Ingredients_['Tomatoes', 'Basil', 'Garlic', 'Olive Oil']  \\\n",
       "0                                                0.0          \n",
       "1                                                1.0          \n",
       "2                                                0.0          \n",
       "3                                                0.0          \n",
       "4                                                0.0          \n",
       "\n",
       "   Ingredients_['confidential']     Price  \n",
       "0                           1.0  0.019404  \n",
       "1                           0.0  0.327345  \n",
       "2                           0.0  0.598275  \n",
       "3                           0.0  0.989580  \n",
       "4                           0.0  0.564858  \n",
       "\n",
       "[5 rows x 25 columns]"
      ]
     },
     "execution_count": 35,
     "metadata": {},
     "output_type": "execute_result"
    }
   ],
   "source": [
    "x.head()"
   ]
  },
  {
   "cell_type": "markdown",
   "id": "01166083",
   "metadata": {
    "id": "8_iUSWCoDX8S",
    "papermill": {
     "duration": 0.025462,
     "end_time": "2024-07-22T16:46:33.455719",
     "exception": false,
     "start_time": "2024-07-22T16:46:33.430257",
     "status": "completed"
    },
    "tags": []
   },
   "source": []
  },
  {
   "cell_type": "code",
   "execution_count": 36,
   "id": "bc0470ca",
   "metadata": {
    "execution": {
     "iopub.execute_input": "2024-07-22T16:46:33.509592Z",
     "iopub.status.busy": "2024-07-22T16:46:33.509128Z",
     "iopub.status.idle": "2024-07-22T16:46:33.517185Z",
     "shell.execute_reply": "2024-07-22T16:46:33.515948Z"
    },
    "executionInfo": {
     "elapsed": 42,
     "status": "ok",
     "timestamp": 1721666272567,
     "user": {
      "displayName": "Jak Ok",
      "userId": "18314609704934874610"
     },
     "user_tz": -180
    },
    "id": "FdXtetGKI2ha",
    "papermill": {
     "duration": 0.038283,
     "end_time": "2024-07-22T16:46:33.520057",
     "exception": false,
     "start_time": "2024-07-22T16:46:33.481774",
     "status": "completed"
    },
    "tags": []
   },
   "outputs": [],
   "source": [
    "x.dropna(inplace=True)"
   ]
  },
  {
   "cell_type": "code",
   "execution_count": 37,
   "id": "12afa571",
   "metadata": {
    "execution": {
     "iopub.execute_input": "2024-07-22T16:46:33.577397Z",
     "iopub.status.busy": "2024-07-22T16:46:33.575528Z",
     "iopub.status.idle": "2024-07-22T16:46:33.597543Z",
     "shell.execute_reply": "2024-07-22T16:46:33.596227Z"
    },
    "executionInfo": {
     "elapsed": 42,
     "status": "ok",
     "timestamp": 1721666272568,
     "user": {
      "displayName": "Jak Ok",
      "userId": "18314609704934874610"
     },
     "user_tz": -180
    },
    "id": "ZQCZoMs6ccs8",
    "papermill": {
     "duration": 0.054546,
     "end_time": "2024-07-22T16:46:33.600600",
     "exception": false,
     "start_time": "2024-07-22T16:46:33.546054",
     "status": "completed"
    },
    "tags": []
   },
   "outputs": [],
   "source": [
    "ros = RandomOverSampler(random_state=42)\n",
    "X_resampled, y_resampled = ros.fit_resample(x, y)"
   ]
  },
  {
   "cell_type": "code",
   "execution_count": 38,
   "id": "78bba370",
   "metadata": {
    "execution": {
     "iopub.execute_input": "2024-07-22T16:46:33.656208Z",
     "iopub.status.busy": "2024-07-22T16:46:33.655809Z",
     "iopub.status.idle": "2024-07-22T16:46:33.905735Z",
     "shell.execute_reply": "2024-07-22T16:46:33.904565Z"
    },
    "executionInfo": {
     "elapsed": 42,
     "status": "ok",
     "timestamp": 1721666272568,
     "user": {
      "displayName": "Jak Ok",
      "userId": "18314609704934874610"
     },
     "user_tz": -180
    },
    "id": "JJNZsdRSch5U",
    "outputId": "059da72e-9545-40b6-a45b-2b6500d9d65f",
    "papermill": {
     "duration": 0.280624,
     "end_time": "2024-07-22T16:46:33.908114",
     "exception": false,
     "start_time": "2024-07-22T16:46:33.627490",
     "status": "completed"
    },
    "tags": []
   },
   "outputs": [
    {
     "data": {
      "text/plain": [
       "<Axes: xlabel='Profitability', ylabel='count'>"
      ]
     },
     "execution_count": 38,
     "metadata": {},
     "output_type": "execute_result"
    },
    {
     "data": {
      "image/png": "[encoded data removed]",
      "text/plain": [
       "<Figure size 640x480 with 1 Axes>"
      ]
     },
     "metadata": {},
     "output_type": "display_data"
    }
   ],
   "source": [
    "sns.countplot(x=y_resampled)"
   ]
  },
  {
   "cell_type": "code",
   "execution_count": 39,
   "id": "32fe7969",
   "metadata": {
    "execution": {
     "iopub.execute_input": "2024-07-22T16:46:33.962380Z",
     "iopub.status.busy": "2024-07-22T16:46:33.961932Z",
     "iopub.status.idle": "2024-07-22T16:46:33.973353Z",
     "shell.execute_reply": "2024-07-22T16:46:33.972043Z"
    },
    "executionInfo": {
     "elapsed": 35,
     "status": "ok",
     "timestamp": 1721666272568,
     "user": {
      "displayName": "Jak Ok",
      "userId": "18314609704934874610"
     },
     "user_tz": -180
    },
    "id": "N0niRMSQR77h",
    "papermill": {
     "duration": 0.041966,
     "end_time": "2024-07-22T16:46:33.976282",
     "exception": false,
     "start_time": "2024-07-22T16:46:33.934316",
     "status": "completed"
    },
    "tags": []
   },
   "outputs": [],
   "source": [
    "x_train,x_test,y_train,y_test=train_test_split(X_resampled,y_resampled,test_size=0.2,shuffle=True,random_state=42)"
   ]
  },
  {
   "cell_type": "code",
   "execution_count": 40,
   "id": "5b1067be",
   "metadata": {
    "execution": {
     "iopub.execute_input": "2024-07-22T16:46:34.031597Z",
     "iopub.status.busy": "2024-07-22T16:46:34.031179Z",
     "iopub.status.idle": "2024-07-22T16:46:34.091102Z",
     "shell.execute_reply": "2024-07-22T16:46:34.089811Z"
    },
    "executionInfo": {
     "elapsed": 35,
     "status": "ok",
     "timestamp": 1721666272569,
     "user": {
      "displayName": "Jak Ok",
      "userId": "18314609704934874610"
     },
     "user_tz": -180
    },
    "id": "8Axod8U2R3mr",
    "papermill": {
     "duration": 0.090697,
     "end_time": "2024-07-22T16:46:34.094183",
     "exception": false,
     "start_time": "2024-07-22T16:46:34.003486",
     "status": "completed"
    },
    "tags": []
   },
   "outputs": [],
   "source": [
    "RFC = RandomForestClassifier(n_estimators=16, max_depth =4,random_state=42)\n",
    "RFC=RFC.fit(x_train,y_train)"
   ]
  },
  {
   "cell_type": "code",
   "execution_count": 41,
   "id": "5d0c019c",
   "metadata": {
    "execution": {
     "iopub.execute_input": "2024-07-22T16:46:34.150308Z",
     "iopub.status.busy": "2024-07-22T16:46:34.149922Z",
     "iopub.status.idle": "2024-07-22T16:46:34.161788Z",
     "shell.execute_reply": "2024-07-22T16:46:34.160728Z"
    },
    "executionInfo": {
     "elapsed": 34,
     "status": "ok",
     "timestamp": 1721666272569,
     "user": {
      "displayName": "Jak Ok",
      "userId": "18314609704934874610"
     },
     "user_tz": -180
    },
    "id": "8xSarIo4Ujse",
    "papermill": {
     "duration": 0.043055,
     "end_time": "2024-07-22T16:46:34.164562",
     "exception": false,
     "start_time": "2024-07-22T16:46:34.121507",
     "status": "completed"
    },
    "tags": []
   },
   "outputs": [],
   "source": [
    "ypred_test =RFC.predict(x_test)"
   ]
  },
  {
   "cell_type": "code",
   "execution_count": 42,
   "id": "653bc10c",
   "metadata": {
    "execution": {
     "iopub.execute_input": "2024-07-22T16:46:34.220542Z",
     "iopub.status.busy": "2024-07-22T16:46:34.220084Z",
     "iopub.status.idle": "2024-07-22T16:46:34.229138Z",
     "shell.execute_reply": "2024-07-22T16:46:34.227830Z"
    },
    "executionInfo": {
     "elapsed": 34,
     "status": "ok",
     "timestamp": 1721666272569,
     "user": {
      "displayName": "Jak Ok",
      "userId": "18314609704934874610"
     },
     "user_tz": -180
    },
    "id": "Wu-pxVeFUsXX",
    "outputId": "aad93ad1-7749-47e1-cf1c-cdd1d347fd51",
    "papermill": {
     "duration": 0.040154,
     "end_time": "2024-07-22T16:46:34.231896",
     "exception": false,
     "start_time": "2024-07-22T16:46:34.191742",
     "status": "completed"
    },
    "tags": []
   },
   "outputs": [
    {
     "name": "stdout",
     "output_type": "stream",
     "text": [
      "accuracy : 84.32 %\n"
     ]
    }
   ],
   "source": [
    "score =accuracy_score(y_test,ypred_test)\n",
    "print(f'accuracy : {score*100:.2f} %')\n"
   ]
  },
  {
   "cell_type": "code",
   "execution_count": 43,
   "id": "39ceccdd",
   "metadata": {
    "execution": {
     "iopub.execute_input": "2024-07-22T16:46:34.288399Z",
     "iopub.status.busy": "2024-07-22T16:46:34.287975Z",
     "iopub.status.idle": "2024-07-22T16:46:34.602566Z",
     "shell.execute_reply": "2024-07-22T16:46:34.601299Z"
    },
    "executionInfo": {
     "elapsed": 31,
     "status": "ok",
     "timestamp": 1721666272570,
     "user": {
      "displayName": "Jak Ok",
      "userId": "18314609704934874610"
     },
     "user_tz": -180
    },
    "id": "pw-KnLYYVZE2",
    "outputId": "8891f90e-4d4c-461f-dc80-4d00b52826c5",
    "papermill": {
     "duration": 0.345909,
     "end_time": "2024-07-22T16:46:34.605458",
     "exception": false,
     "start_time": "2024-07-22T16:46:34.259549",
     "status": "completed"
    },
    "tags": []
   },
   "outputs": [
    {
     "data": {
      "image/png": "[encoded data removed]",
      "text/plain": [
       "<Figure size 640x480 with 2 Axes>"
      ]
     },
     "metadata": {},
     "output_type": "display_data"
    }
   ],
   "source": [
    "cm =confusion_matrix(y_test,ypred_test,labels=RFC.classes_)\n",
    "cm_display=ConfusionMatrixDisplay(confusion_matrix=cm,display_labels=RFC.classes_)\n",
    "cm_display.plot()\n",
    "plt.show()"
   ]
  },
  {
   "cell_type": "code",
   "execution_count": null,
   "id": "8574ad04",
   "metadata": {
    "executionInfo": {
     "elapsed": 28,
     "status": "ok",
     "timestamp": 1721666272570,
     "user": {
      "displayName": "Jak Ok",
      "userId": "18314609704934874610"
     },
     "user_tz": -180
    },
    "id": "adQgPxcOKwAZ",
    "papermill": {
     "duration": 0.026482,
     "end_time": "2024-07-22T16:46:34.658745",
     "exception": false,
     "start_time": "2024-07-22T16:46:34.632263",
     "status": "completed"
    },
    "tags": []
   },
   "outputs": [],
   "source": []
  }
 ],
 "metadata": {
  "accelerator": "GPU",
  "colab": {
   "gpuType": "T4",
   "provenance": [
    {
     "file_id": "/v2/external/notebooks/intro.ipynb",
     "timestamp": 1721631135977
    }
   ]
  },
  "kaggle": {
   "accelerator": "none",
   "dataSources": [
    {
     "datasetId": 5249830,
     "sourceId": 8743558,
     "sourceType": "datasetVersion"
    }
   ],
   "dockerImageVersionId": 30746,
   "isGpuEnabled": false,
   "isInternetEnabled": true,
   "language": "python",
   "sourceType": "notebook"
  },
  "kernelspec": {
   "display_name": "Python 3",
   "name": "python3"
  },
  "language_info": {
   "codemirror_mode": {
    "name": "ipython",
    "version": 3
   },
   "file_extension": ".py",
   "mimetype": "text/x-python",
   "name": "python",
   "nbconvert_exporter": "python",
   "pygments_lexer": "ipython3",
   "version": "3.10.13"
  },
  "papermill": {
   "default_parameters": {},
   "duration": 12.854229,
   "end_time": "2024-07-22T16:46:35.407985",
   "environment_variables": {},
   "exception": null,
   "input_path": "__notebook__.ipynb",
   "output_path": "__notebook__.ipynb",
   "parameters": {},
   "start_time": "2024-07-22T16:46:22.553756",
   "version": "2.5.0"
  }
 },
 "nbformat": 4,
 "nbformat_minor": 5
}
